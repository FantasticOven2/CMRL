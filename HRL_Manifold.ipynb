{
 "cells": [
  {
   "cell_type": "markdown",
   "id": "cbfd10c5",
   "metadata": {},
   "source": [
    "# Reinforcement Learning on Sequential Manifold"
   ]
  },
  {
   "cell_type": "markdown",
   "id": "fa142e44",
   "metadata": {},
   "source": [
    "In this setting we explicitly define manifolds. We want to solve optimization problem of the form: $min_x J(x)$ s.t. $f_{i}(x)=0$. $\\forall i$. We model each constraint as a manifold and constraints come with an order. Essentailly, agent should travel on manifold sequentially and reach a goal at the end.\n"
   ]
  },
  {
   "cell_type": "code",
   "execution_count": 2,
   "id": "99a416cf",
   "metadata": {},
   "outputs": [],
   "source": [
    "import numpy as np\n",
    "from abc import ABC, abstractmethod"
   ]
  },
  {
   "cell_type": "code",
   "execution_count": 8,
   "id": "945c2fd9",
   "metadata": {},
   "outputs": [],
   "source": [
    "class Manifold:\n",
    "    def __init__(self, \n",
    "                 name: str, \n",
    "                 dim_ambient: int,\n",
    "                 dim_manifold: int):\n",
    "        self.name = name\n",
    "        self.dim_ambient = dim_ambient\n",
    "        self.dim_manifold = dim_manifold\n",
    "    \n",
    "    \"\"\"This function describes the level set of the manifold y(x)=0.\"\"\"\n",
    "    @abstractmethod\n",
    "    def y(self, x: np.ndarray) -> np.ndarray:\n",
    "        pass\n",
    "    \n",
    "    \"\"\"The Jacobian of the level set function.\"\"\"\n",
    "    @abstractmethod\n",
    "    def J(self, x: np.ndarray) -> np.ndarray:\n",
    "        pass"
   ]
  },
  {
   "cell_type": "code",
   "execution_count": 9,
   "id": "05506414",
   "metadata": {},
   "outputs": [],
   "source": [
    "class LineManifold(Manifold):\n",
    "    def __init__(self, a: float, b: float, c: float):\n",
    "        super.__init__(self, name='Line', dim_ambient=2, dim_manifold=1)\n",
    "        self.a = a\n",
    "        self.b = b\n",
    "        self.c = c\n",
    "    \n",
    "    def y(self, x: np.ndarray) -> np.ndarray:\n",
    "        return np.array([self.a * x[0] + self.b * x[1] + self.c])\n",
    "    \n",
    "    def J(self, x: np.ndarray) -> np.ndarray:\n",
    "        return np.array([[self.a, self.b]])"
   ]
  },
  {
   "cell_type": "code",
   "execution_count": null,
   "id": "0924f847",
   "metadata": {},
   "outputs": [],
   "source": [
    "def is_on_manifold()"
   ]
  }
 ],
 "metadata": {
  "kernelspec": {
   "display_name": "Python 3 (ipykernel)",
   "language": "python",
   "name": "python3"
  },
  "language_info": {
   "codemirror_mode": {
    "name": "ipython",
    "version": 3
   },
   "file_extension": ".py",
   "mimetype": "text/x-python",
   "name": "python",
   "nbconvert_exporter": "python",
   "pygments_lexer": "ipython3",
   "version": "3.8.10"
  }
 },
 "nbformat": 4,
 "nbformat_minor": 5
}
